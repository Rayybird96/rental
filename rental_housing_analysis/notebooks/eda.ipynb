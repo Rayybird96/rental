{
 "cells": [
  {
   "cell_type": "code",
   "execution_count": 4,
   "metadata": {},
   "outputs": [],
   "source": [
    "import pandas as pd\n",
    "import numpy as np\n",
    "import matplotlib.pyplot as plt\n",
    "import seaborn as sns\n",
    "from datetime import datetime"
   ]
  },
  {
   "cell_type": "markdown",
   "metadata": {},
   "source": [
    "## Rental data"
   ]
  },
  {
   "cell_type": "code",
   "execution_count": 5,
   "metadata": {},
   "outputs": [
    {
     "data": {
      "text/html": [
       "<div>\n",
       "<style scoped>\n",
       "    .dataframe tbody tr th:only-of-type {\n",
       "        vertical-align: middle;\n",
       "    }\n",
       "\n",
       "    .dataframe tbody tr th {\n",
       "        vertical-align: top;\n",
       "    }\n",
       "\n",
       "    .dataframe thead th {\n",
       "        text-align: right;\n",
       "    }\n",
       "</style>\n",
       "<table border=\"1\" class=\"dataframe\">\n",
       "  <thead>\n",
       "    <tr style=\"text-align: right;\">\n",
       "      <th></th>\n",
       "      <th>rent_approval_date</th>\n",
       "      <th>town</th>\n",
       "      <th>block</th>\n",
       "      <th>street_name</th>\n",
       "      <th>flat_type</th>\n",
       "      <th>monthly_rent</th>\n",
       "    </tr>\n",
       "  </thead>\n",
       "  <tbody>\n",
       "    <tr>\n",
       "      <th>0</th>\n",
       "      <td>2021-01</td>\n",
       "      <td>ANG MO KIO</td>\n",
       "      <td>105</td>\n",
       "      <td>ANG MO KIO AVE 4</td>\n",
       "      <td>4-ROOM</td>\n",
       "      <td>2000</td>\n",
       "    </tr>\n",
       "    <tr>\n",
       "      <th>1</th>\n",
       "      <td>2021-01</td>\n",
       "      <td>ANG MO KIO</td>\n",
       "      <td>107</td>\n",
       "      <td>ANG MO KIO AVE 4</td>\n",
       "      <td>3-ROOM</td>\n",
       "      <td>1750</td>\n",
       "    </tr>\n",
       "    <tr>\n",
       "      <th>2</th>\n",
       "      <td>2021-01</td>\n",
       "      <td>ANG MO KIO</td>\n",
       "      <td>108</td>\n",
       "      <td>ANG MO KIO AVE 4</td>\n",
       "      <td>3-ROOM</td>\n",
       "      <td>1750</td>\n",
       "    </tr>\n",
       "    <tr>\n",
       "      <th>3</th>\n",
       "      <td>2021-01</td>\n",
       "      <td>ANG MO KIO</td>\n",
       "      <td>111</td>\n",
       "      <td>ANG MO KIO AVE 4</td>\n",
       "      <td>5-ROOM</td>\n",
       "      <td>2230</td>\n",
       "    </tr>\n",
       "    <tr>\n",
       "      <th>4</th>\n",
       "      <td>2021-01</td>\n",
       "      <td>ANG MO KIO</td>\n",
       "      <td>111</td>\n",
       "      <td>ANG MO KIO AVE 4</td>\n",
       "      <td>5-ROOM</td>\n",
       "      <td>2450</td>\n",
       "    </tr>\n",
       "    <tr>\n",
       "      <th>...</th>\n",
       "      <td>...</td>\n",
       "      <td>...</td>\n",
       "      <td>...</td>\n",
       "      <td>...</td>\n",
       "      <td>...</td>\n",
       "      <td>...</td>\n",
       "    </tr>\n",
       "    <tr>\n",
       "      <th>137225</th>\n",
       "      <td>2024-09</td>\n",
       "      <td>CHOA CHU KANG</td>\n",
       "      <td>765</td>\n",
       "      <td>CHOA CHU KANG NTH 5</td>\n",
       "      <td>4-ROOM</td>\n",
       "      <td>2400</td>\n",
       "    </tr>\n",
       "    <tr>\n",
       "      <th>137226</th>\n",
       "      <td>2024-09</td>\n",
       "      <td>WOODLANDS</td>\n",
       "      <td>686A</td>\n",
       "      <td>WOODLANDS DR 73</td>\n",
       "      <td>4-ROOM</td>\n",
       "      <td>3200</td>\n",
       "    </tr>\n",
       "    <tr>\n",
       "      <th>137227</th>\n",
       "      <td>2024-09</td>\n",
       "      <td>TOA PAYOH</td>\n",
       "      <td>144</td>\n",
       "      <td>LOR 2 TOA PAYOH</td>\n",
       "      <td>4-ROOM</td>\n",
       "      <td>3500</td>\n",
       "    </tr>\n",
       "    <tr>\n",
       "      <th>137228</th>\n",
       "      <td>2024-09</td>\n",
       "      <td>TAMPINES</td>\n",
       "      <td>897</td>\n",
       "      <td>TAMPINES ST 81</td>\n",
       "      <td>5-ROOM</td>\n",
       "      <td>3900</td>\n",
       "    </tr>\n",
       "    <tr>\n",
       "      <th>137229</th>\n",
       "      <td>2024-09</td>\n",
       "      <td>SENGKANG</td>\n",
       "      <td>311B</td>\n",
       "      <td>ANCHORVALE LANE</td>\n",
       "      <td>5-ROOM</td>\n",
       "      <td>3000</td>\n",
       "    </tr>\n",
       "  </tbody>\n",
       "</table>\n",
       "<p>137230 rows × 6 columns</p>\n",
       "</div>"
      ],
      "text/plain": [
       "       rent_approval_date           town block          street_name flat_type  \\\n",
       "0                 2021-01     ANG MO KIO   105     ANG MO KIO AVE 4    4-ROOM   \n",
       "1                 2021-01     ANG MO KIO   107     ANG MO KIO AVE 4    3-ROOM   \n",
       "2                 2021-01     ANG MO KIO   108     ANG MO KIO AVE 4    3-ROOM   \n",
       "3                 2021-01     ANG MO KIO   111     ANG MO KIO AVE 4    5-ROOM   \n",
       "4                 2021-01     ANG MO KIO   111     ANG MO KIO AVE 4    5-ROOM   \n",
       "...                   ...            ...   ...                  ...       ...   \n",
       "137225            2024-09  CHOA CHU KANG   765  CHOA CHU KANG NTH 5    4-ROOM   \n",
       "137226            2024-09      WOODLANDS  686A      WOODLANDS DR 73    4-ROOM   \n",
       "137227            2024-09      TOA PAYOH   144      LOR 2 TOA PAYOH    4-ROOM   \n",
       "137228            2024-09       TAMPINES   897       TAMPINES ST 81    5-ROOM   \n",
       "137229            2024-09       SENGKANG  311B      ANCHORVALE LANE    5-ROOM   \n",
       "\n",
       "        monthly_rent  \n",
       "0               2000  \n",
       "1               1750  \n",
       "2               1750  \n",
       "3               2230  \n",
       "4               2450  \n",
       "...              ...  \n",
       "137225          2400  \n",
       "137226          3200  \n",
       "137227          3500  \n",
       "137228          3900  \n",
       "137229          3000  \n",
       "\n",
       "[137230 rows x 6 columns]"
      ]
     },
     "execution_count": 5,
     "metadata": {},
     "output_type": "execute_result"
    }
   ],
   "source": [
    "rental_df = pd.read_csv(\"../data/RentingOutofFlats2024CSV.csv\")\n",
    "rental_df"
   ]
  },
  {
   "cell_type": "code",
   "execution_count": 6,
   "metadata": {},
   "outputs": [
    {
     "data": {
      "text/plain": [
       "(137230, 6)"
      ]
     },
     "execution_count": 6,
     "metadata": {},
     "output_type": "execute_result"
    }
   ],
   "source": [
    "rental_df.shape"
   ]
  },
  {
   "cell_type": "markdown",
   "metadata": {},
   "source": [
    "## Resale flat data"
   ]
  },
  {
   "cell_type": "code",
   "execution_count": 7,
   "metadata": {},
   "outputs": [
    {
     "data": {
      "text/html": [
       "<div>\n",
       "<style scoped>\n",
       "    .dataframe tbody tr th:only-of-type {\n",
       "        vertical-align: middle;\n",
       "    }\n",
       "\n",
       "    .dataframe tbody tr th {\n",
       "        vertical-align: top;\n",
       "    }\n",
       "\n",
       "    .dataframe thead th {\n",
       "        text-align: right;\n",
       "    }\n",
       "</style>\n",
       "<table border=\"1\" class=\"dataframe\">\n",
       "  <thead>\n",
       "    <tr style=\"text-align: right;\">\n",
       "      <th></th>\n",
       "      <th>month</th>\n",
       "      <th>town</th>\n",
       "      <th>flat_type</th>\n",
       "      <th>block</th>\n",
       "      <th>street_name</th>\n",
       "      <th>storey_range</th>\n",
       "      <th>floor_area_sqm</th>\n",
       "      <th>flat_model</th>\n",
       "      <th>lease_commence_date</th>\n",
       "      <th>remaining_lease</th>\n",
       "      <th>resale_price</th>\n",
       "    </tr>\n",
       "  </thead>\n",
       "  <tbody>\n",
       "    <tr>\n",
       "      <th>0</th>\n",
       "      <td>2017-01</td>\n",
       "      <td>ANG MO KIO</td>\n",
       "      <td>2 ROOM</td>\n",
       "      <td>406</td>\n",
       "      <td>ANG MO KIO AVE 10</td>\n",
       "      <td>10 TO 12</td>\n",
       "      <td>44.0</td>\n",
       "      <td>Improved</td>\n",
       "      <td>1979</td>\n",
       "      <td>61 years 04 months</td>\n",
       "      <td>232000.0</td>\n",
       "    </tr>\n",
       "    <tr>\n",
       "      <th>1</th>\n",
       "      <td>2017-01</td>\n",
       "      <td>ANG MO KIO</td>\n",
       "      <td>3 ROOM</td>\n",
       "      <td>108</td>\n",
       "      <td>ANG MO KIO AVE 4</td>\n",
       "      <td>01 TO 03</td>\n",
       "      <td>67.0</td>\n",
       "      <td>New Generation</td>\n",
       "      <td>1978</td>\n",
       "      <td>60 years 07 months</td>\n",
       "      <td>250000.0</td>\n",
       "    </tr>\n",
       "    <tr>\n",
       "      <th>2</th>\n",
       "      <td>2017-01</td>\n",
       "      <td>ANG MO KIO</td>\n",
       "      <td>3 ROOM</td>\n",
       "      <td>602</td>\n",
       "      <td>ANG MO KIO AVE 5</td>\n",
       "      <td>01 TO 03</td>\n",
       "      <td>67.0</td>\n",
       "      <td>New Generation</td>\n",
       "      <td>1980</td>\n",
       "      <td>62 years 05 months</td>\n",
       "      <td>262000.0</td>\n",
       "    </tr>\n",
       "    <tr>\n",
       "      <th>3</th>\n",
       "      <td>2017-01</td>\n",
       "      <td>ANG MO KIO</td>\n",
       "      <td>3 ROOM</td>\n",
       "      <td>465</td>\n",
       "      <td>ANG MO KIO AVE 10</td>\n",
       "      <td>04 TO 06</td>\n",
       "      <td>68.0</td>\n",
       "      <td>New Generation</td>\n",
       "      <td>1980</td>\n",
       "      <td>62 years 01 month</td>\n",
       "      <td>265000.0</td>\n",
       "    </tr>\n",
       "    <tr>\n",
       "      <th>4</th>\n",
       "      <td>2017-01</td>\n",
       "      <td>ANG MO KIO</td>\n",
       "      <td>3 ROOM</td>\n",
       "      <td>601</td>\n",
       "      <td>ANG MO KIO AVE 5</td>\n",
       "      <td>01 TO 03</td>\n",
       "      <td>67.0</td>\n",
       "      <td>New Generation</td>\n",
       "      <td>1980</td>\n",
       "      <td>62 years 05 months</td>\n",
       "      <td>265000.0</td>\n",
       "    </tr>\n",
       "  </tbody>\n",
       "</table>\n",
       "</div>"
      ],
      "text/plain": [
       "     month        town flat_type block        street_name storey_range  \\\n",
       "0  2017-01  ANG MO KIO    2 ROOM   406  ANG MO KIO AVE 10     10 TO 12   \n",
       "1  2017-01  ANG MO KIO    3 ROOM   108   ANG MO KIO AVE 4     01 TO 03   \n",
       "2  2017-01  ANG MO KIO    3 ROOM   602   ANG MO KIO AVE 5     01 TO 03   \n",
       "3  2017-01  ANG MO KIO    3 ROOM   465  ANG MO KIO AVE 10     04 TO 06   \n",
       "4  2017-01  ANG MO KIO    3 ROOM   601   ANG MO KIO AVE 5     01 TO 03   \n",
       "\n",
       "   floor_area_sqm      flat_model  lease_commence_date     remaining_lease  \\\n",
       "0            44.0        Improved                 1979  61 years 04 months   \n",
       "1            67.0  New Generation                 1978  60 years 07 months   \n",
       "2            67.0  New Generation                 1980  62 years 05 months   \n",
       "3            68.0  New Generation                 1980   62 years 01 month   \n",
       "4            67.0  New Generation                 1980  62 years 05 months   \n",
       "\n",
       "   resale_price  \n",
       "0      232000.0  \n",
       "1      250000.0  \n",
       "2      262000.0  \n",
       "3      265000.0  \n",
       "4      265000.0  "
      ]
     },
     "execution_count": 7,
     "metadata": {},
     "output_type": "execute_result"
    }
   ],
   "source": [
    "resale_df = pd.read_csv(\"../data/Resaleflatprices.csv\")\n",
    "resale_df.head()"
   ]
  },
  {
   "cell_type": "code",
   "execution_count": 8,
   "metadata": {},
   "outputs": [
    {
     "data": {
      "text/plain": [
       "(192970, 11)"
      ]
     },
     "execution_count": 8,
     "metadata": {},
     "output_type": "execute_result"
    }
   ],
   "source": [
    "resale_df.shape"
   ]
  },
  {
   "cell_type": "markdown",
   "metadata": {},
   "source": [
    "Resale flat data ranges from 2017 to 2024, while rental data ranges from 2021 to 2024. Both are monthly time series data.\n",
    "\n",
    "Theres no building id in these openly available datasets, so I will need to join on the flat type, street name and block and date"
   ]
  },
  {
   "cell_type": "code",
   "execution_count": 17,
   "metadata": {},
   "outputs": [],
   "source": [
    "def load_data(df1, df2):\n",
    "    # Convert month into date\n",
    "    df1[\"month\"] = pd.to_datetime(df1[\"month\"], format=\"%Y-%m\")\n",
    "\n",
    "    # Query 2021 onwards for resale flat data to match the time period in rental data\n",
    "    df1 = df1.query('month >= 2021')\n",
    "\n",
    "    # Adding a hyphenn for flat type (eg. from 1 ROOM to 1-ROOM)\n",
    "    df1[\"flat_type\"] = df1[\"flat_type\"].str.replace(\" \", \"-\")\n",
    "    \n",
    "    # Inner join rental and resale flat data to get resale flats and their attributes\n",
    "    merged_df = df2.merge(df1, how=\"inner\", on=[\"flat_type\", \"street_name\", \"block\"])\n",
    "    merged_df = merged_df.drop(columns = [\"town_y\"])\n",
    "\n",
    "    # Convert the rent_approval_date to date object\n",
    "    #merged_df[\"rent_approval_date\"] = pd.to_datetime(merged_df[\"rent_approval_date\"], format = \"%Y-%m\")\n",
    "    \n",
    "    return merged_df\n"
   ]
  },
  {
   "cell_type": "code",
   "execution_count": 18,
   "metadata": {},
   "outputs": [
    {
     "data": {
      "text/plain": [
       "(192970, 11)"
      ]
     },
     "execution_count": 18,
     "metadata": {},
     "output_type": "execute_result"
    }
   ],
   "source": [
    "resale_df.shape"
   ]
  },
  {
   "cell_type": "code",
   "execution_count": 19,
   "metadata": {},
   "outputs": [
    {
     "data": {
      "text/plain": [
       "(137230, 6)"
      ]
     },
     "execution_count": 19,
     "metadata": {},
     "output_type": "execute_result"
    }
   ],
   "source": [
    "rental_df.shape"
   ]
  },
  {
   "cell_type": "code",
   "execution_count": 20,
   "metadata": {},
   "outputs": [
    {
     "name": "stderr",
     "output_type": "stream",
     "text": [
      "C:\\Users\\rayne\\AppData\\Local\\Temp\\ipykernel_24776\\3801895627.py:9: SettingWithCopyWarning: \n",
      "A value is trying to be set on a copy of a slice from a DataFrame.\n",
      "Try using .loc[row_indexer,col_indexer] = value instead\n",
      "\n",
      "See the caveats in the documentation: https://pandas.pydata.org/pandas-docs/stable/user_guide/indexing.html#returning-a-view-versus-a-copy\n",
      "  df1[\"flat_type\"] = df1[\"flat_type\"].str.replace(\" \", \"-\")\n"
     ]
    }
   ],
   "source": [
    "df2 = load_data(resale_df, rental_df)"
   ]
  },
  {
   "cell_type": "code",
   "execution_count": 21,
   "metadata": {},
   "outputs": [
    {
     "data": {
      "text/html": [
       "<div>\n",
       "<style scoped>\n",
       "    .dataframe tbody tr th:only-of-type {\n",
       "        vertical-align: middle;\n",
       "    }\n",
       "\n",
       "    .dataframe tbody tr th {\n",
       "        vertical-align: top;\n",
       "    }\n",
       "\n",
       "    .dataframe thead th {\n",
       "        text-align: right;\n",
       "    }\n",
       "</style>\n",
       "<table border=\"1\" class=\"dataframe\">\n",
       "  <thead>\n",
       "    <tr style=\"text-align: right;\">\n",
       "      <th></th>\n",
       "      <th>rent_approval_date</th>\n",
       "      <th>town_x</th>\n",
       "      <th>block</th>\n",
       "      <th>street_name</th>\n",
       "      <th>flat_type</th>\n",
       "      <th>monthly_rent</th>\n",
       "      <th>month</th>\n",
       "      <th>storey_range</th>\n",
       "      <th>floor_area_sqm</th>\n",
       "      <th>flat_model</th>\n",
       "      <th>lease_commence_date</th>\n",
       "      <th>remaining_lease</th>\n",
       "      <th>resale_price</th>\n",
       "    </tr>\n",
       "  </thead>\n",
       "  <tbody>\n",
       "    <tr>\n",
       "      <th>0</th>\n",
       "      <td>2021-01</td>\n",
       "      <td>ANG MO KIO</td>\n",
       "      <td>105</td>\n",
       "      <td>ANG MO KIO AVE 4</td>\n",
       "      <td>4-ROOM</td>\n",
       "      <td>2000</td>\n",
       "      <td>2021-03-01</td>\n",
       "      <td>07 TO 09</td>\n",
       "      <td>92.0</td>\n",
       "      <td>New Generation</td>\n",
       "      <td>1978</td>\n",
       "      <td>56 years 02 months</td>\n",
       "      <td>438000.0</td>\n",
       "    </tr>\n",
       "    <tr>\n",
       "      <th>1</th>\n",
       "      <td>2021-01</td>\n",
       "      <td>ANG MO KIO</td>\n",
       "      <td>105</td>\n",
       "      <td>ANG MO KIO AVE 4</td>\n",
       "      <td>4-ROOM</td>\n",
       "      <td>2000</td>\n",
       "      <td>2021-06-01</td>\n",
       "      <td>07 TO 09</td>\n",
       "      <td>92.0</td>\n",
       "      <td>New Generation</td>\n",
       "      <td>1978</td>\n",
       "      <td>55 years 11 months</td>\n",
       "      <td>440000.0</td>\n",
       "    </tr>\n",
       "    <tr>\n",
       "      <th>2</th>\n",
       "      <td>2021-01</td>\n",
       "      <td>ANG MO KIO</td>\n",
       "      <td>105</td>\n",
       "      <td>ANG MO KIO AVE 4</td>\n",
       "      <td>4-ROOM</td>\n",
       "      <td>2000</td>\n",
       "      <td>2022-08-01</td>\n",
       "      <td>01 TO 03</td>\n",
       "      <td>92.0</td>\n",
       "      <td>New Generation</td>\n",
       "      <td>1978</td>\n",
       "      <td>54 years 09 months</td>\n",
       "      <td>475000.0</td>\n",
       "    </tr>\n",
       "    <tr>\n",
       "      <th>3</th>\n",
       "      <td>2021-01</td>\n",
       "      <td>ANG MO KIO</td>\n",
       "      <td>105</td>\n",
       "      <td>ANG MO KIO AVE 4</td>\n",
       "      <td>4-ROOM</td>\n",
       "      <td>2000</td>\n",
       "      <td>2022-10-01</td>\n",
       "      <td>07 TO 09</td>\n",
       "      <td>92.0</td>\n",
       "      <td>New Generation</td>\n",
       "      <td>1978</td>\n",
       "      <td>54 years 07 months</td>\n",
       "      <td>480000.0</td>\n",
       "    </tr>\n",
       "    <tr>\n",
       "      <th>4</th>\n",
       "      <td>2021-01</td>\n",
       "      <td>ANG MO KIO</td>\n",
       "      <td>105</td>\n",
       "      <td>ANG MO KIO AVE 4</td>\n",
       "      <td>4-ROOM</td>\n",
       "      <td>2000</td>\n",
       "      <td>2023-06-01</td>\n",
       "      <td>01 TO 03</td>\n",
       "      <td>92.0</td>\n",
       "      <td>New Generation</td>\n",
       "      <td>1978</td>\n",
       "      <td>53 years 11 months</td>\n",
       "      <td>482000.0</td>\n",
       "    </tr>\n",
       "    <tr>\n",
       "      <th>...</th>\n",
       "      <td>...</td>\n",
       "      <td>...</td>\n",
       "      <td>...</td>\n",
       "      <td>...</td>\n",
       "      <td>...</td>\n",
       "      <td>...</td>\n",
       "      <td>...</td>\n",
       "      <td>...</td>\n",
       "      <td>...</td>\n",
       "      <td>...</td>\n",
       "      <td>...</td>\n",
       "      <td>...</td>\n",
       "      <td>...</td>\n",
       "    </tr>\n",
       "    <tr>\n",
       "      <th>1252575</th>\n",
       "      <td>2024-09</td>\n",
       "      <td>HOUGANG</td>\n",
       "      <td>476B</td>\n",
       "      <td>UPP SERANGOON VIEW</td>\n",
       "      <td>5-ROOM</td>\n",
       "      <td>3500</td>\n",
       "      <td>2023-01-01</td>\n",
       "      <td>19 TO 21</td>\n",
       "      <td>115.0</td>\n",
       "      <td>Premium Apartment</td>\n",
       "      <td>2016</td>\n",
       "      <td>92 years 04 months</td>\n",
       "      <td>900000.0</td>\n",
       "    </tr>\n",
       "    <tr>\n",
       "      <th>1252576</th>\n",
       "      <td>2024-09</td>\n",
       "      <td>HOUGANG</td>\n",
       "      <td>476B</td>\n",
       "      <td>UPP SERANGOON VIEW</td>\n",
       "      <td>5-ROOM</td>\n",
       "      <td>3500</td>\n",
       "      <td>2023-01-01</td>\n",
       "      <td>07 TO 09</td>\n",
       "      <td>115.0</td>\n",
       "      <td>Premium Apartment</td>\n",
       "      <td>2016</td>\n",
       "      <td>92 years 03 months</td>\n",
       "      <td>846000.0</td>\n",
       "    </tr>\n",
       "    <tr>\n",
       "      <th>1252577</th>\n",
       "      <td>2024-09</td>\n",
       "      <td>HOUGANG</td>\n",
       "      <td>476B</td>\n",
       "      <td>UPP SERANGOON VIEW</td>\n",
       "      <td>5-ROOM</td>\n",
       "      <td>3500</td>\n",
       "      <td>2023-11-01</td>\n",
       "      <td>04 TO 06</td>\n",
       "      <td>115.0</td>\n",
       "      <td>Premium Apartment</td>\n",
       "      <td>2016</td>\n",
       "      <td>91 years 05 months</td>\n",
       "      <td>835000.0</td>\n",
       "    </tr>\n",
       "    <tr>\n",
       "      <th>1252578</th>\n",
       "      <td>2024-09</td>\n",
       "      <td>HOUGANG</td>\n",
       "      <td>476B</td>\n",
       "      <td>UPP SERANGOON VIEW</td>\n",
       "      <td>5-ROOM</td>\n",
       "      <td>3500</td>\n",
       "      <td>2024-05-01</td>\n",
       "      <td>07 TO 09</td>\n",
       "      <td>115.0</td>\n",
       "      <td>Premium Apartment</td>\n",
       "      <td>2016</td>\n",
       "      <td>91 years</td>\n",
       "      <td>875000.0</td>\n",
       "    </tr>\n",
       "    <tr>\n",
       "      <th>1252579</th>\n",
       "      <td>2024-09</td>\n",
       "      <td>HOUGANG</td>\n",
       "      <td>476B</td>\n",
       "      <td>UPP SERANGOON VIEW</td>\n",
       "      <td>5-ROOM</td>\n",
       "      <td>3500</td>\n",
       "      <td>2024-06-01</td>\n",
       "      <td>10 TO 12</td>\n",
       "      <td>115.0</td>\n",
       "      <td>Premium Apartment</td>\n",
       "      <td>2016</td>\n",
       "      <td>90 years 10 months</td>\n",
       "      <td>880000.0</td>\n",
       "    </tr>\n",
       "  </tbody>\n",
       "</table>\n",
       "<p>1252580 rows × 13 columns</p>\n",
       "</div>"
      ],
      "text/plain": [
       "        rent_approval_date      town_x block         street_name flat_type  \\\n",
       "0                  2021-01  ANG MO KIO   105    ANG MO KIO AVE 4    4-ROOM   \n",
       "1                  2021-01  ANG MO KIO   105    ANG MO KIO AVE 4    4-ROOM   \n",
       "2                  2021-01  ANG MO KIO   105    ANG MO KIO AVE 4    4-ROOM   \n",
       "3                  2021-01  ANG MO KIO   105    ANG MO KIO AVE 4    4-ROOM   \n",
       "4                  2021-01  ANG MO KIO   105    ANG MO KIO AVE 4    4-ROOM   \n",
       "...                    ...         ...   ...                 ...       ...   \n",
       "1252575            2024-09     HOUGANG  476B  UPP SERANGOON VIEW    5-ROOM   \n",
       "1252576            2024-09     HOUGANG  476B  UPP SERANGOON VIEW    5-ROOM   \n",
       "1252577            2024-09     HOUGANG  476B  UPP SERANGOON VIEW    5-ROOM   \n",
       "1252578            2024-09     HOUGANG  476B  UPP SERANGOON VIEW    5-ROOM   \n",
       "1252579            2024-09     HOUGANG  476B  UPP SERANGOON VIEW    5-ROOM   \n",
       "\n",
       "         monthly_rent      month storey_range  floor_area_sqm  \\\n",
       "0                2000 2021-03-01     07 TO 09            92.0   \n",
       "1                2000 2021-06-01     07 TO 09            92.0   \n",
       "2                2000 2022-08-01     01 TO 03            92.0   \n",
       "3                2000 2022-10-01     07 TO 09            92.0   \n",
       "4                2000 2023-06-01     01 TO 03            92.0   \n",
       "...               ...        ...          ...             ...   \n",
       "1252575          3500 2023-01-01     19 TO 21           115.0   \n",
       "1252576          3500 2023-01-01     07 TO 09           115.0   \n",
       "1252577          3500 2023-11-01     04 TO 06           115.0   \n",
       "1252578          3500 2024-05-01     07 TO 09           115.0   \n",
       "1252579          3500 2024-06-01     10 TO 12           115.0   \n",
       "\n",
       "                flat_model  lease_commence_date     remaining_lease  \\\n",
       "0           New Generation                 1978  56 years 02 months   \n",
       "1           New Generation                 1978  55 years 11 months   \n",
       "2           New Generation                 1978  54 years 09 months   \n",
       "3           New Generation                 1978  54 years 07 months   \n",
       "4           New Generation                 1978  53 years 11 months   \n",
       "...                    ...                  ...                 ...   \n",
       "1252575  Premium Apartment                 2016  92 years 04 months   \n",
       "1252576  Premium Apartment                 2016  92 years 03 months   \n",
       "1252577  Premium Apartment                 2016  91 years 05 months   \n",
       "1252578  Premium Apartment                 2016            91 years   \n",
       "1252579  Premium Apartment                 2016  90 years 10 months   \n",
       "\n",
       "         resale_price  \n",
       "0            438000.0  \n",
       "1            440000.0  \n",
       "2            475000.0  \n",
       "3            480000.0  \n",
       "4            482000.0  \n",
       "...               ...  \n",
       "1252575      900000.0  \n",
       "1252576      846000.0  \n",
       "1252577      835000.0  \n",
       "1252578      875000.0  \n",
       "1252579      880000.0  \n",
       "\n",
       "[1252580 rows x 13 columns]"
      ]
     },
     "execution_count": 21,
     "metadata": {},
     "output_type": "execute_result"
    }
   ],
   "source": [
    "df2"
   ]
  },
  {
   "cell_type": "markdown",
   "metadata": {},
   "source": [
    "## EDA"
   ]
  },
  {
   "cell_type": "markdown",
   "metadata": {},
   "source": [
    "### monthly_rent column"
   ]
  },
  {
   "cell_type": "markdown",
   "metadata": {},
   "source": [
    "Distribution of monthly rent"
   ]
  },
  {
   "cell_type": "code",
   "execution_count": 22,
   "metadata": {},
   "outputs": [
    {
     "data": {
      "text/plain": [
       "Text(0.5, 1.0, 'Monthly Rent distribution for 2021-2024 Rents')"
      ]
     },
     "execution_count": 22,
     "metadata": {},
     "output_type": "execute_result"
    },
    {
     "data": {
      "image/png": "[encoded data removed]",
      "text/plain": [
       "<Figure size 1000x600 with 1 Axes>"
      ]
     },
     "metadata": {},
     "output_type": "display_data"
    }
   ],
   "source": [
    "plt.figure(figsize=(10, 6))\n",
    "plt.hist(df2[\"monthly_rent\"], bins=20, edgecolor=\"black\")\n",
    "plt.xlabel(\"Monthly Rent\")\n",
    "plt.ylabel(\"Frequency\")\n",
    "plt.title(\"Monthly Rent distribution for 2021-2024 Rents\")"
   ]
  },
  {
   "cell_type": "markdown",
   "metadata": {},
   "source": [
    "Time series of aggregated monthly rent"
   ]
  },
  {
   "cell_type": "code",
   "execution_count": 23,
   "metadata": {},
   "outputs": [
    {
     "data": {
      "text/plain": [
       "0          2021-01\n",
       "1          2021-01\n",
       "2          2021-01\n",
       "3          2021-01\n",
       "4          2021-01\n",
       "            ...   \n",
       "1252575    2024-09\n",
       "1252576    2024-09\n",
       "1252577    2024-09\n",
       "1252578    2024-09\n",
       "1252579    2024-09\n",
       "Name: rent_approval_date, Length: 1252580, dtype: object"
      ]
     },
     "execution_count": 23,
     "metadata": {},
     "output_type": "execute_result"
    }
   ],
   "source": [
    "df2[\"rent_approval_date\"]"
   ]
  },
  {
   "cell_type": "markdown",
   "metadata": {},
   "source": [
    "### town column"
   ]
  },
  {
   "cell_type": "code",
   "execution_count": 63,
   "metadata": {},
   "outputs": [
    {
     "data": {
      "text/plain": [
       "array(['ANG MO KIO', 'BEDOK', 'BISHAN', 'BUKIT BATOK', 'BUKIT MERAH',\n",
       "       'BUKIT PANJANG', 'BUKIT TIMAH', 'CENTRAL', 'CHOA CHU KANG',\n",
       "       'CLEMENTI', 'GEYLANG', 'HOUGANG', 'JURONG EAST', 'JURONG WEST',\n",
       "       'KALLANG/WHAMPOA', 'MARINE PARADE', 'PASIR RIS', 'PUNGGOL',\n",
       "       'QUEENSTOWN', 'SEMBAWANG', 'SENGKANG', 'SERANGOON', 'TAMPINES',\n",
       "       'TOA PAYOH', 'WOODLANDS', 'YISHUN'], dtype=object)"
      ]
     },
     "execution_count": 63,
     "metadata": {},
     "output_type": "execute_result"
    }
   ],
   "source": [
    "df2[\"town_x\"].unique()"
   ]
  },
  {
   "cell_type": "code",
   "execution_count": 62,
   "metadata": {},
   "outputs": [
    {
     "data": {
      "text/plain": [
       "town_x\n",
       "BEDOK              96083\n",
       "QUEENSTOWN         84941\n",
       "JURONG WEST        79270\n",
       "SENGKANG           76522\n",
       "ANG MO KIO         75815\n",
       "BUKIT MERAH        73726\n",
       "TOA PAYOH          69301\n",
       "KALLANG/WHAMPOA    66891\n",
       "PUNGGOL            64773\n",
       "TAMPINES           60896\n",
       "YISHUN             55189\n",
       "CLEMENTI           52790\n",
       "WOODLANDS          50983\n",
       "HOUGANG            48179\n",
       "GEYLANG            39019\n",
       "BUKIT BATOK        38900\n",
       "CHOA CHU KANG      31098\n",
       "JURONG EAST        30767\n",
       "CENTRAL            26351\n",
       "BUKIT PANJANG      24816\n",
       "SEMBAWANG          21671\n",
       "SERANGOON          21239\n",
       "PASIR RIS          20114\n",
       "MARINE PARADE      19653\n",
       "BISHAN             19521\n",
       "BUKIT TIMAH         4072\n",
       "Name: count, dtype: int64"
      ]
     },
     "execution_count": 62,
     "metadata": {},
     "output_type": "execute_result"
    }
   ],
   "source": [
    "df2[\"town_x\"].value_counts()"
   ]
  },
  {
   "cell_type": "code",
   "execution_count": 73,
   "metadata": {},
   "outputs": [
    {
     "name": "stderr",
     "output_type": "stream",
     "text": [
      "c:\\Users\\rayne\\anaconda3\\Lib\\site-packages\\seaborn\\_oldcore.py:1498: FutureWarning: is_categorical_dtype is deprecated and will be removed in a future version. Use isinstance(dtype, CategoricalDtype) instead\n",
      "  if pd.api.types.is_categorical_dtype(vector):\n",
      "c:\\Users\\rayne\\anaconda3\\Lib\\site-packages\\seaborn\\_oldcore.py:1498: FutureWarning: is_categorical_dtype is deprecated and will be removed in a future version. Use isinstance(dtype, CategoricalDtype) instead\n",
      "  if pd.api.types.is_categorical_dtype(vector):\n",
      "c:\\Users\\rayne\\anaconda3\\Lib\\site-packages\\seaborn\\_oldcore.py:1498: FutureWarning: is_categorical_dtype is deprecated and will be removed in a future version. Use isinstance(dtype, CategoricalDtype) instead\n",
      "  if pd.api.types.is_categorical_dtype(vector):\n"
     ]
    },
    {
     "data": {
      "image/png": "[encoded data removed]",
      "text/plain": [
       "<Figure size 1400x800 with 1 Axes>"
      ]
     },
     "metadata": {},
     "output_type": "display_data"
    }
   ],
   "source": [
    "plt.figure(figsize=(14, 8))\n",
    "sns.boxplot(x='town_x', y='monthly_rent', data=df2)\n",
    "plt.title('Rental Price Distribution by Location')\n",
    "plt.xlabel('Location Code')\n",
    "plt.ylabel('Rental Price')\n",
    "plt.xticks(rotation=45)\n",
    "plt.show()"
   ]
  },
  {
   "cell_type": "markdown",
   "metadata": {},
   "source": [
    "## flat_type column"
   ]
  },
  {
   "cell_type": "code",
   "execution_count": 64,
   "metadata": {},
   "outputs": [
    {
     "data": {
      "text/plain": [
       "flat_type\n",
       "3-ROOM       542822\n",
       "4-ROOM       414309\n",
       "5-ROOM       215875\n",
       "EXECUTIVE     54516\n",
       "2-ROOM        23874\n",
       "1-ROOM         1184\n",
       "Name: count, dtype: int64"
      ]
     },
     "execution_count": 64,
     "metadata": {},
     "output_type": "execute_result"
    }
   ],
   "source": [
    "df2[\"flat_type\"].value_counts()"
   ]
  },
  {
   "cell_type": "markdown",
   "metadata": {},
   "source": []
  },
  {
   "cell_type": "markdown",
   "metadata": {},
   "source": []
  },
  {
   "cell_type": "markdown",
   "metadata": {},
   "source": []
  },
  {
   "cell_type": "markdown",
   "metadata": {},
   "source": []
  }
 ],
 "metadata": {
  "kernelspec": {
   "display_name": "base",
   "language": "python",
   "name": "python3"
  },
  "language_info": {
   "codemirror_mode": {
    "name": "ipython",
    "version": 3
   },
   "file_extension": ".py",
   "mimetype": "text/x-python",
   "name": "python",
   "nbconvert_exporter": "python",
   "pygments_lexer": "ipython3",
   "version": "3.11.5"
  }
 },
 "nbformat": 4,
 "nbformat_minor": 2
}
